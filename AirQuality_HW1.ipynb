{
 "cells": [
  {
   "cell_type": "code",
   "execution_count": 11,
   "id": "39bcf57c",
   "metadata": {},
   "outputs": [
    {
     "name": "stdout",
     "output_type": "stream",
     "text": [
      "Collecting sodapy\n",
      "  Obtaining dependency information for sodapy from https://files.pythonhosted.org/packages/d8/27/f092405731decf73bde86b1468ad7d44a5e2623a93101dac0b0d8bd3f914/sodapy-2.2.0-py2.py3-none-any.whl.metadata\n",
      "  Downloading sodapy-2.2.0-py2.py3-none-any.whl.metadata (15 kB)\n",
      "Requirement already satisfied: requests>=2.28.1 in /Users/sadiachowdhury/anaconda3/lib/python3.11/site-packages (from sodapy) (2.31.0)\n",
      "Requirement already satisfied: charset-normalizer<4,>=2 in /Users/sadiachowdhury/anaconda3/lib/python3.11/site-packages (from requests>=2.28.1->sodapy) (2.0.4)\n",
      "Requirement already satisfied: idna<4,>=2.5 in /Users/sadiachowdhury/anaconda3/lib/python3.11/site-packages (from requests>=2.28.1->sodapy) (3.4)\n",
      "Requirement already satisfied: urllib3<3,>=1.21.1 in /Users/sadiachowdhury/anaconda3/lib/python3.11/site-packages (from requests>=2.28.1->sodapy) (1.26.16)\n",
      "Requirement already satisfied: certifi>=2017.4.17 in /Users/sadiachowdhury/anaconda3/lib/python3.11/site-packages (from requests>=2.28.1->sodapy) (2023.7.22)\n",
      "Downloading sodapy-2.2.0-py2.py3-none-any.whl (15 kB)\n",
      "Installing collected packages: sodapy\n",
      "Successfully installed sodapy-2.2.0\n"
     ]
    }
   ],
   "source": [
    "!pip install sodapy"
   ]
  },
  {
   "cell_type": "code",
   "execution_count": 12,
   "id": "1ff0b210",
   "metadata": {},
   "outputs": [],
   "source": [
    "import pandas as pd\n",
    "from sodapy import Socrata"
   ]
  },
  {
   "cell_type": "code",
   "execution_count": 13,
   "id": "fdc0edb8",
   "metadata": {
    "scrolled": true
   },
   "outputs": [
    {
     "name": "stderr",
     "output_type": "stream",
     "text": [
      "WARNING:root:Requests made without an app_token will be subject to strict throttling limits.\n"
     ]
    }
   ],
   "source": [
    "client = Socrata(\"data.cityofnewyork.us\", None)"
   ]
  },
  {
   "cell_type": "code",
   "execution_count": 14,
   "id": "259396fe",
   "metadata": {},
   "outputs": [],
   "source": [
    "results = client.get(\"c3uy-2p5r\", limit=7500)"
   ]
  },
  {
   "cell_type": "code",
   "execution_count": 15,
   "id": "e8f326cb",
   "metadata": {},
   "outputs": [],
   "source": [
    "results_df = pd.DataFrame.from_records(results)"
   ]
  },
  {
   "cell_type": "code",
   "execution_count": 16,
   "id": "cd55921a",
   "metadata": {},
   "outputs": [
    {
     "data": {
      "text/html": [
       "<div>\n",
       "<style scoped>\n",
       "    .dataframe tbody tr th:only-of-type {\n",
       "        vertical-align: middle;\n",
       "    }\n",
       "\n",
       "    .dataframe tbody tr th {\n",
       "        vertical-align: top;\n",
       "    }\n",
       "\n",
       "    .dataframe thead th {\n",
       "        text-align: right;\n",
       "    }\n",
       "</style>\n",
       "<table border=\"1\" class=\"dataframe\">\n",
       "  <thead>\n",
       "    <tr style=\"text-align: right;\">\n",
       "      <th></th>\n",
       "      <th>unique_id</th>\n",
       "      <th>indicator_id</th>\n",
       "      <th>name</th>\n",
       "      <th>measure</th>\n",
       "      <th>measure_info</th>\n",
       "      <th>geo_type_name</th>\n",
       "      <th>geo_join_id</th>\n",
       "      <th>geo_place_name</th>\n",
       "      <th>time_period</th>\n",
       "      <th>start_date</th>\n",
       "      <th>data_value</th>\n",
       "    </tr>\n",
       "  </thead>\n",
       "  <tbody>\n",
       "    <tr>\n",
       "      <th>0</th>\n",
       "      <td>172653</td>\n",
       "      <td>375</td>\n",
       "      <td>Nitrogen dioxide (NO2)</td>\n",
       "      <td>Mean</td>\n",
       "      <td>ppb</td>\n",
       "      <td>UHF34</td>\n",
       "      <td>203</td>\n",
       "      <td>Bedford Stuyvesant - Crown Heights</td>\n",
       "      <td>Annual Average 2011</td>\n",
       "      <td>2010-12-01T00:00:00.000</td>\n",
       "      <td>25.30</td>\n",
       "    </tr>\n",
       "    <tr>\n",
       "      <th>1</th>\n",
       "      <td>172585</td>\n",
       "      <td>375</td>\n",
       "      <td>Nitrogen dioxide (NO2)</td>\n",
       "      <td>Mean</td>\n",
       "      <td>ppb</td>\n",
       "      <td>UHF34</td>\n",
       "      <td>203</td>\n",
       "      <td>Bedford Stuyvesant - Crown Heights</td>\n",
       "      <td>Annual Average 2009</td>\n",
       "      <td>2008-12-01T00:00:00.000</td>\n",
       "      <td>26.93</td>\n",
       "    </tr>\n",
       "    <tr>\n",
       "      <th>2</th>\n",
       "      <td>336637</td>\n",
       "      <td>375</td>\n",
       "      <td>Nitrogen dioxide (NO2)</td>\n",
       "      <td>Mean</td>\n",
       "      <td>ppb</td>\n",
       "      <td>UHF34</td>\n",
       "      <td>204</td>\n",
       "      <td>East New York</td>\n",
       "      <td>Annual Average 2015</td>\n",
       "      <td>2015-01-01T00:00:00.000</td>\n",
       "      <td>19.09</td>\n",
       "    </tr>\n",
       "    <tr>\n",
       "      <th>3</th>\n",
       "      <td>336622</td>\n",
       "      <td>375</td>\n",
       "      <td>Nitrogen dioxide (NO2)</td>\n",
       "      <td>Mean</td>\n",
       "      <td>ppb</td>\n",
       "      <td>UHF34</td>\n",
       "      <td>103</td>\n",
       "      <td>Fordham - Bronx Pk</td>\n",
       "      <td>Annual Average 2015</td>\n",
       "      <td>2015-01-01T00:00:00.000</td>\n",
       "      <td>19.76</td>\n",
       "    </tr>\n",
       "    <tr>\n",
       "      <th>4</th>\n",
       "      <td>172582</td>\n",
       "      <td>375</td>\n",
       "      <td>Nitrogen dioxide (NO2)</td>\n",
       "      <td>Mean</td>\n",
       "      <td>ppb</td>\n",
       "      <td>UHF34</td>\n",
       "      <td>104</td>\n",
       "      <td>Pelham - Throgs Neck</td>\n",
       "      <td>Annual Average 2009</td>\n",
       "      <td>2008-12-01T00:00:00.000</td>\n",
       "      <td>22.83</td>\n",
       "    </tr>\n",
       "  </tbody>\n",
       "</table>\n",
       "</div>"
      ],
      "text/plain": [
       "  unique_id indicator_id                    name measure measure_info  \\\n",
       "0    172653          375  Nitrogen dioxide (NO2)    Mean          ppb   \n",
       "1    172585          375  Nitrogen dioxide (NO2)    Mean          ppb   \n",
       "2    336637          375  Nitrogen dioxide (NO2)    Mean          ppb   \n",
       "3    336622          375  Nitrogen dioxide (NO2)    Mean          ppb   \n",
       "4    172582          375  Nitrogen dioxide (NO2)    Mean          ppb   \n",
       "\n",
       "  geo_type_name geo_join_id                      geo_place_name  \\\n",
       "0         UHF34         203  Bedford Stuyvesant - Crown Heights   \n",
       "1         UHF34         203  Bedford Stuyvesant - Crown Heights   \n",
       "2         UHF34         204                       East New York   \n",
       "3         UHF34         103                  Fordham - Bronx Pk   \n",
       "4         UHF34         104                Pelham - Throgs Neck   \n",
       "\n",
       "           time_period               start_date data_value  \n",
       "0  Annual Average 2011  2010-12-01T00:00:00.000      25.30  \n",
       "1  Annual Average 2009  2008-12-01T00:00:00.000      26.93  \n",
       "2  Annual Average 2015  2015-01-01T00:00:00.000      19.09  \n",
       "3  Annual Average 2015  2015-01-01T00:00:00.000      19.76  \n",
       "4  Annual Average 2009  2008-12-01T00:00:00.000      22.83  "
      ]
     },
     "execution_count": 16,
     "metadata": {},
     "output_type": "execute_result"
    }
   ],
   "source": [
    "results_df.head()"
   ]
  },
  {
   "cell_type": "code",
   "execution_count": null,
   "id": "101fad6c",
   "metadata": {},
   "outputs": [],
   "source": []
  }
 ],
 "metadata": {
  "kernelspec": {
   "display_name": "Python 3 (ipykernel)",
   "language": "python",
   "name": "python3"
  },
  "language_info": {
   "codemirror_mode": {
    "name": "ipython",
    "version": 3
   },
   "file_extension": ".py",
   "mimetype": "text/x-python",
   "name": "python",
   "nbconvert_exporter": "python",
   "pygments_lexer": "ipython3",
   "version": "3.11.5"
  }
 },
 "nbformat": 4,
 "nbformat_minor": 5
}
